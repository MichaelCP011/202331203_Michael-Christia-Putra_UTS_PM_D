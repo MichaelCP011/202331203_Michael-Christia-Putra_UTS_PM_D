{
 "cells": [
  {
   "cell_type": "code",
   "execution_count": 20,
   "id": "7fac2760-2c33-4b99-af21-7f6f96d8fe57",
   "metadata": {},
   "outputs": [],
   "source": [
    "import pandas as pd\n",
    "import numpy as np\n",
    "import seaborn as sns\n",
    "import matplotlib.pyplot as plt\n",
    "from sklearn.linear_model import LinearRegression\n",
    "from sklearn.model_selection import train_test_split\n",
    "from sklearn.preprocessing import StandardScaler\n",
    "from sklearn.metrics import mean_squared_error, mean_absolute_error, r2_score\n",
    "from scipy import stats"
   ]
  },
  {
   "cell_type": "markdown",
   "id": "1ea99e22-9990-47c4-be84-55a7c59c275c",
   "metadata": {},
   "source": [
    "Pada blok ini, berbagai pustaka Python yang dibutuhkan diimpor.\n",
    "- pandas dan numpy digunakan untuk manipulasi data dan perhitungan numerik\n",
    "- seaborn dan matplotlib.pyplot digunakan untuk visualisasi data dan grafik.\n",
    "- LinearRegression diambil dari sklearn.linear_model untuk membangun model regresi linear,\n",
    "- sedangkan train_test_split dari sklearn.model_selection digunakan untuk membagi dataset menjadi data latih dan uji.\n",
    "- StandardScaler dari sklearn.preprocessing berguna untuk normalisasi data.\n",
    "- Sementara mean_squared_error, mean_absolute_error, dan r2_score dari sklearn.metrics digunakan sebagai metrik evaluasi model.\n",
    "- dan terakhir scipy.stats menyediakan fungsi Z-score untuk analisis outlier."
   ]
  },
  {
   "cell_type": "code",
   "execution_count": 2,
   "id": "9cae2695-8be3-4058-8c36-3cd85ec38191",
   "metadata": {},
   "outputs": [
    {
     "data": {
      "text/html": [
       "<div>\n",
       "<style scoped>\n",
       "    .dataframe tbody tr th:only-of-type {\n",
       "        vertical-align: middle;\n",
       "    }\n",
       "\n",
       "    .dataframe tbody tr th {\n",
       "        vertical-align: top;\n",
       "    }\n",
       "\n",
       "    .dataframe thead th {\n",
       "        text-align: right;\n",
       "    }\n",
       "</style>\n",
       "<table border=\"1\" class=\"dataframe\">\n",
       "  <thead>\n",
       "    <tr style=\"text-align: right;\">\n",
       "      <th></th>\n",
       "      <th>Production (X)</th>\n",
       "      <th>Harvest Area (Y)</th>\n",
       "    </tr>\n",
       "  </thead>\n",
       "  <tbody>\n",
       "    <tr>\n",
       "      <th>0</th>\n",
       "      <td>1329536.00</td>\n",
       "      <td>323589.00</td>\n",
       "    </tr>\n",
       "    <tr>\n",
       "      <th>1</th>\n",
       "      <td>1299699.00</td>\n",
       "      <td>329041.00</td>\n",
       "    </tr>\n",
       "    <tr>\n",
       "      <th>2</th>\n",
       "      <td>1382905.00</td>\n",
       "      <td>339253.00</td>\n",
       "    </tr>\n",
       "    <tr>\n",
       "      <th>3</th>\n",
       "      <td>1419128.00</td>\n",
       "      <td>348223.00</td>\n",
       "    </tr>\n",
       "    <tr>\n",
       "      <th>4</th>\n",
       "      <td>1368074.00</td>\n",
       "      <td>337561.00</td>\n",
       "    </tr>\n",
       "    <tr>\n",
       "      <th>...</th>\n",
       "      <td>...</td>\n",
       "      <td>...</td>\n",
       "    </tr>\n",
       "    <tr>\n",
       "      <th>219</th>\n",
       "      <td>3831923.00</td>\n",
       "      <td>390799.00</td>\n",
       "    </tr>\n",
       "    <tr>\n",
       "      <th>220</th>\n",
       "      <td>4090654.00</td>\n",
       "      <td>396559.00</td>\n",
       "    </tr>\n",
       "    <tr>\n",
       "      <th>221</th>\n",
       "      <td>2488641.91</td>\n",
       "      <td>511940.93</td>\n",
       "    </tr>\n",
       "    <tr>\n",
       "      <th>222</th>\n",
       "      <td>2164089.33</td>\n",
       "      <td>464103.42</td>\n",
       "    </tr>\n",
       "    <tr>\n",
       "      <th>223</th>\n",
       "      <td>2604913.29</td>\n",
       "      <td>545149.05</td>\n",
       "    </tr>\n",
       "  </tbody>\n",
       "</table>\n",
       "<p>224 rows × 2 columns</p>\n",
       "</div>"
      ],
      "text/plain": [
       "     Production (X)  Harvest Area (Y)\n",
       "0        1329536.00         323589.00\n",
       "1        1299699.00         329041.00\n",
       "2        1382905.00         339253.00\n",
       "3        1419128.00         348223.00\n",
       "4        1368074.00         337561.00\n",
       "..              ...               ...\n",
       "219      3831923.00         390799.00\n",
       "220      4090654.00         396559.00\n",
       "221      2488641.91         511940.93\n",
       "222      2164089.33         464103.42\n",
       "223      2604913.29         545149.05\n",
       "\n",
       "[224 rows x 2 columns]"
      ]
     },
     "execution_count": 2,
     "metadata": {},
     "output_type": "execute_result"
    }
   ],
   "source": [
    "data = pd.read_csv('R02_rice_field.csv')\n",
    "data"
   ]
  },
  {
   "cell_type": "markdown",
   "id": "b7403098-39dd-44a6-b30d-c6499433a54b",
   "metadata": {},
   "source": [
    "Baris ini memuat dataset R02_rice_field.csv ke dalam variabel data menggunakan pd.read_csv(), sehingga dataset tersebut dapat diakses dan dimanipulasi dengan fungsi-fungsi pandas. Dataset ini diasumsikan memiliki kolom “Production (X)” dan “Harvest Area (Y)”, yang merupakan variabel yang akan digunakan dalam analisis dan pembuatan model regresi."
   ]
  },
  {
   "cell_type": "code",
   "execution_count": 3,
   "id": "8955664b-fdac-4836-a071-2c7bfe2a2832",
   "metadata": {},
   "outputs": [
    {
     "name": "stdout",
     "output_type": "stream",
     "text": [
      "Correlation matrix:\n",
      "                  Production (X)  Harvest Area (Y)\n",
      "Production (X)          1.000000          0.905622\n",
      "Harvest Area (Y)        0.905622          1.000000\n"
     ]
    }
   ],
   "source": [
    "correlation = data.corr()\n",
    "print(\"Correlation matrix:\")\n",
    "print(correlation)"
   ]
  },
  {
   "cell_type": "markdown",
   "id": "9898288a-3b95-4585-9901-f67877533ef9",
   "metadata": {},
   "source": [
    "Blok ini menghitung matriks korelasi antara kolom-kolom dalam dataset menggunakan data.corr(). Matriks korelasi membantu dalam memahami sejauh mana keterkaitan atau hubungan linear antara variabel Production (X) dan Harvest Area (Y), yang merupakan langkah penting dalam menentukan apakah regresi linear cocok digunakan pada dataset ini. Dan menghasilkan analisis korelasi sebesar 90%"
   ]
  },
  {
   "cell_type": "code",
   "execution_count": 4,
   "id": "08108517-1d42-4529-ba0a-770cab622838",
   "metadata": {},
   "outputs": [
    {
     "data": {
      "image/png": "[encoded data removed]",
      "text/plain": [
       "<Figure size 800x600 with 2 Axes>"
      ]
     },
     "metadata": {},
     "output_type": "display_data"
    }
   ],
   "source": [
    "plt.figure(figsize=(8, 6))\n",
    "sns.heatmap(correlation, annot=True, cmap='coolwarm')\n",
    "plt.title(\"Correlation Heatmap\")\n",
    "plt.show()"
   ]
  },
  {
   "cell_type": "markdown",
   "id": "acaffa2e-f9c1-493d-a55c-10d31e682ff3",
   "metadata": {},
   "source": [
    "Kode ini membuat visualisasi heatmap dari matriks korelasi yang dihitung pada blok sebelumnya menggunakan sns.heatmap(). Heatmap memperlihatkan korelasi dalam bentuk warna, yang memudahkan identifikasi hubungan antara variabel. Argumen annot=True menampilkan nilai korelasi langsung pada heatmap, sementara cmap='coolwarm' memberikan gradasi warna dari merah ke biru, menunjukkan korelasi negatif hingga positif."
   ]
  },
  {
   "cell_type": "code",
   "execution_count": 5,
   "id": "827cc9fb-0692-4587-afa2-3c7e19501160",
   "metadata": {},
   "outputs": [
    {
     "data": {
      "image/png": "[encoded data removed]",
      "text/plain": [
       "<Figure size 1200x500 with 1 Axes>"
      ]
     },
     "metadata": {},
     "output_type": "display_data"
    }
   ],
   "source": [
    "plt.figure(figsize=(12, 5))\n",
    "sns.boxplot(data=data)\n",
    "plt.title(\"Boxplot for Outlier Detection\")\n",
    "plt.show()"
   ]
  },
  {
   "cell_type": "markdown",
   "id": "3b959802-0d14-417c-a1e8-61a2a0b6f698",
   "metadata": {},
   "source": [
    "Blok ini membuat visualisasi boxplot dari dataset menggunakan sns.boxplot(), yang berfungsi untuk mendeteksi outlier. Boxplot ini memberikan informasi tentang persebaran data dan nilai ekstrim pada setiap variabel dalam dataset. Judul \"Boxplot for Outlier Detection\" ditambahkan untuk memperjelas bahwa visualisasi ini bertujuan mengidentifikasi outlier yang bisa memengaruhi performa model."
   ]
  },
  {
   "cell_type": "code",
   "execution_count": 6,
   "id": "93fb27d8-5a2f-4196-b0f3-8ac473da4675",
   "metadata": {},
   "outputs": [
    {
     "name": "stdout",
     "output_type": "stream",
     "text": [
      "Number of outliers found: 0\n"
     ]
    }
   ],
   "source": [
    "z_scores = np.abs(stats.zscore(data))\n",
    "outliers = (z_scores > 3).any(axis=1)\n",
    "print(f\"Number of outliers found: {outliers.sum()}\")"
   ]
  },
  {
   "cell_type": "markdown",
   "id": "3ac336da-8399-43b0-a50f-f78fd94e67ce",
   "metadata": {},
   "source": [
    "Kode ini menghitung nilai Z-score untuk setiap titik data dalam dataset dengan stats.zscore(data) dan mengidentifikasi outlier dengan menganggap nilai Z-score yang lebih besar dari 3 sebagai outlier. Variabel outliers adalah hasil logika True atau False yang menunjukkan posisi outlier pada dataset. Total outlier dihitung dengan outliers.sum() dan ditampilkan, sehingga pengguna dapat mengetahui jumlah data yang berpotensi berpengaruh negatif pada model."
   ]
  },
  {
   "cell_type": "code",
   "execution_count": 7,
   "id": "ef569411-2561-4d9d-af5e-97e49969ee8e",
   "metadata": {},
   "outputs": [],
   "source": [
    "scaler = StandardScaler()\n",
    "scaled_data = scaler.fit_transform(data)\n",
    "scaled_df = pd.DataFrame(scaled_data, columns=data.columns)"
   ]
  },
  {
   "cell_type": "markdown",
   "id": "5d3c5580-95f6-425a-b823-8397352b1a31",
   "metadata": {},
   "source": [
    "Pada blok ini, data distandarisasi menggunakan StandardScaler. Objek scaler dipasangkan pada dataset, dan scaler.fit_transform() mengubah nilai setiap kolom agar memiliki distribusi standar (rata-rata 0 dan standar deviasi 1), yang membantu dalam menstabilkan model. Hasilnya dikonversi kembali ke DataFrame bernama scaled_df, sehingga data tetap mudah diakses dan dapat dilihat dalam format tabel."
   ]
  },
  {
   "cell_type": "code",
   "execution_count": 8,
   "id": "45cb2423-9abd-476d-b736-5dd8de2f0135",
   "metadata": {},
   "outputs": [],
   "source": [
    "X = scaled_df[['Production (X)']]\n",
    "y = scaled_df['Harvest Area (Y)']\n",
    "X_train, X_test, y_train, y_test = train_test_split(X, y, test_size=0.1, random_state=47)"
   ]
  },
  {
   "cell_type": "markdown",
   "id": "9d1bb575-c8ec-41d4-b565-b04068a65391",
   "metadata": {},
   "source": [
    "Di sini, dataset dipisahkan menjadi fitur input X (kolom Production (X)) dan target output y (kolom Harvest Area (Y)). Data kemudian dibagi menjadi set data latih dan uji menggunakan train_test_split, dengan 10% data digunakan untuk pengujian dan 90% untuk pelatihan. Parameter random_state=47 memastikan bahwa pembagian data konsisten saat kode dijalankan ulang."
   ]
  },
  {
   "cell_type": "code",
   "execution_count": 9,
   "id": "03337b10-da7e-43cd-a1ce-00d5deb30502",
   "metadata": {},
   "outputs": [
    {
     "data": {
      "text/html": [
       "<style>#sk-container-id-1 {\n",
       "  /* Definition of color scheme common for light and dark mode */\n",
       "  --sklearn-color-text: black;\n",
       "  --sklearn-color-line: gray;\n",
       "  /* Definition of color scheme for unfitted estimators */\n",
       "  --sklearn-color-unfitted-level-0: #fff5e6;\n",
       "  --sklearn-color-unfitted-level-1: #f6e4d2;\n",
       "  --sklearn-color-unfitted-level-2: #ffe0b3;\n",
       "  --sklearn-color-unfitted-level-3: chocolate;\n",
       "  /* Definition of color scheme for fitted estimators */\n",
       "  --sklearn-color-fitted-level-0: #f0f8ff;\n",
       "  --sklearn-color-fitted-level-1: #d4ebff;\n",
       "  --sklearn-color-fitted-level-2: #b3dbfd;\n",
       "  --sklearn-color-fitted-level-3: cornflowerblue;\n",
       "\n",
       "  /* Specific color for light theme */\n",
       "  --sklearn-color-text-on-default-background: var(--sg-text-color, var(--theme-code-foreground, var(--jp-content-font-color1, black)));\n",
       "  --sklearn-color-background: var(--sg-background-color, var(--theme-background, var(--jp-layout-color0, white)));\n",
       "  --sklearn-color-border-box: var(--sg-text-color, var(--theme-code-foreground, var(--jp-content-font-color1, black)));\n",
       "  --sklearn-color-icon: #696969;\n",
       "\n",
       "  @media (prefers-color-scheme: dark) {\n",
       "    /* Redefinition of color scheme for dark theme */\n",
       "    --sklearn-color-text-on-default-background: var(--sg-text-color, var(--theme-code-foreground, var(--jp-content-font-color1, white)));\n",
       "    --sklearn-color-background: var(--sg-background-color, var(--theme-background, var(--jp-layout-color0, #111)));\n",
       "    --sklearn-color-border-box: var(--sg-text-color, var(--theme-code-foreground, var(--jp-content-font-color1, white)));\n",
       "    --sklearn-color-icon: #878787;\n",
       "  }\n",
       "}\n",
       "\n",
       "#sk-container-id-1 {\n",
       "  color: var(--sklearn-color-text);\n",
       "}\n",
       "\n",
       "#sk-container-id-1 pre {\n",
       "  padding: 0;\n",
       "}\n",
       "\n",
       "#sk-container-id-1 input.sk-hidden--visually {\n",
       "  border: 0;\n",
       "  clip: rect(1px 1px 1px 1px);\n",
       "  clip: rect(1px, 1px, 1px, 1px);\n",
       "  height: 1px;\n",
       "  margin: -1px;\n",
       "  overflow: hidden;\n",
       "  padding: 0;\n",
       "  position: absolute;\n",
       "  width: 1px;\n",
       "}\n",
       "\n",
       "#sk-container-id-1 div.sk-dashed-wrapped {\n",
       "  border: 1px dashed var(--sklearn-color-line);\n",
       "  margin: 0 0.4em 0.5em 0.4em;\n",
       "  box-sizing: border-box;\n",
       "  padding-bottom: 0.4em;\n",
       "  background-color: var(--sklearn-color-background);\n",
       "}\n",
       "\n",
       "#sk-container-id-1 div.sk-container {\n",
       "  /* jupyter's `normalize.less` sets `[hidden] { display: none; }`\n",
       "     but bootstrap.min.css set `[hidden] { display: none !important; }`\n",
       "     so we also need the `!important` here to be able to override the\n",
       "     default hidden behavior on the sphinx rendered scikit-learn.org.\n",
       "     See: https://github.com/scikit-learn/scikit-learn/issues/21755 */\n",
       "  display: inline-block !important;\n",
       "  position: relative;\n",
       "}\n",
       "\n",
       "#sk-container-id-1 div.sk-text-repr-fallback {\n",
       "  display: none;\n",
       "}\n",
       "\n",
       "div.sk-parallel-item,\n",
       "div.sk-serial,\n",
       "div.sk-item {\n",
       "  /* draw centered vertical line to link estimators */\n",
       "  background-image: linear-gradient(var(--sklearn-color-text-on-default-background), var(--sklearn-color-text-on-default-background));\n",
       "  background-size: 2px 100%;\n",
       "  background-repeat: no-repeat;\n",
       "  background-position: center center;\n",
       "}\n",
       "\n",
       "/* Parallel-specific style estimator block */\n",
       "\n",
       "#sk-container-id-1 div.sk-parallel-item::after {\n",
       "  content: \"\";\n",
       "  width: 100%;\n",
       "  border-bottom: 2px solid var(--sklearn-color-text-on-default-background);\n",
       "  flex-grow: 1;\n",
       "}\n",
       "\n",
       "#sk-container-id-1 div.sk-parallel {\n",
       "  display: flex;\n",
       "  align-items: stretch;\n",
       "  justify-content: center;\n",
       "  background-color: var(--sklearn-color-background);\n",
       "  position: relative;\n",
       "}\n",
       "\n",
       "#sk-container-id-1 div.sk-parallel-item {\n",
       "  display: flex;\n",
       "  flex-direction: column;\n",
       "}\n",
       "\n",
       "#sk-container-id-1 div.sk-parallel-item:first-child::after {\n",
       "  align-self: flex-end;\n",
       "  width: 50%;\n",
       "}\n",
       "\n",
       "#sk-container-id-1 div.sk-parallel-item:last-child::after {\n",
       "  align-self: flex-start;\n",
       "  width: 50%;\n",
       "}\n",
       "\n",
       "#sk-container-id-1 div.sk-parallel-item:only-child::after {\n",
       "  width: 0;\n",
       "}\n",
       "\n",
       "/* Serial-specific style estimator block */\n",
       "\n",
       "#sk-container-id-1 div.sk-serial {\n",
       "  display: flex;\n",
       "  flex-direction: column;\n",
       "  align-items: center;\n",
       "  background-color: var(--sklearn-color-background);\n",
       "  padding-right: 1em;\n",
       "  padding-left: 1em;\n",
       "}\n",
       "\n",
       "\n",
       "/* Toggleable style: style used for estimator/Pipeline/ColumnTransformer box that is\n",
       "clickable and can be expanded/collapsed.\n",
       "- Pipeline and ColumnTransformer use this feature and define the default style\n",
       "- Estimators will overwrite some part of the style using the `sk-estimator` class\n",
       "*/\n",
       "\n",
       "/* Pipeline and ColumnTransformer style (default) */\n",
       "\n",
       "#sk-container-id-1 div.sk-toggleable {\n",
       "  /* Default theme specific background. It is overwritten whether we have a\n",
       "  specific estimator or a Pipeline/ColumnTransformer */\n",
       "  background-color: var(--sklearn-color-background);\n",
       "}\n",
       "\n",
       "/* Toggleable label */\n",
       "#sk-container-id-1 label.sk-toggleable__label {\n",
       "  cursor: pointer;\n",
       "  display: block;\n",
       "  width: 100%;\n",
       "  margin-bottom: 0;\n",
       "  padding: 0.5em;\n",
       "  box-sizing: border-box;\n",
       "  text-align: center;\n",
       "}\n",
       "\n",
       "#sk-container-id-1 label.sk-toggleable__label-arrow:before {\n",
       "  /* Arrow on the left of the label */\n",
       "  content: \"▸\";\n",
       "  float: left;\n",
       "  margin-right: 0.25em;\n",
       "  color: var(--sklearn-color-icon);\n",
       "}\n",
       "\n",
       "#sk-container-id-1 label.sk-toggleable__label-arrow:hover:before {\n",
       "  color: var(--sklearn-color-text);\n",
       "}\n",
       "\n",
       "/* Toggleable content - dropdown */\n",
       "\n",
       "#sk-container-id-1 div.sk-toggleable__content {\n",
       "  max-height: 0;\n",
       "  max-width: 0;\n",
       "  overflow: hidden;\n",
       "  text-align: left;\n",
       "  /* unfitted */\n",
       "  background-color: var(--sklearn-color-unfitted-level-0);\n",
       "}\n",
       "\n",
       "#sk-container-id-1 div.sk-toggleable__content.fitted {\n",
       "  /* fitted */\n",
       "  background-color: var(--sklearn-color-fitted-level-0);\n",
       "}\n",
       "\n",
       "#sk-container-id-1 div.sk-toggleable__content pre {\n",
       "  margin: 0.2em;\n",
       "  border-radius: 0.25em;\n",
       "  color: var(--sklearn-color-text);\n",
       "  /* unfitted */\n",
       "  background-color: var(--sklearn-color-unfitted-level-0);\n",
       "}\n",
       "\n",
       "#sk-container-id-1 div.sk-toggleable__content.fitted pre {\n",
       "  /* unfitted */\n",
       "  background-color: var(--sklearn-color-fitted-level-0);\n",
       "}\n",
       "\n",
       "#sk-container-id-1 input.sk-toggleable__control:checked~div.sk-toggleable__content {\n",
       "  /* Expand drop-down */\n",
       "  max-height: 200px;\n",
       "  max-width: 100%;\n",
       "  overflow: auto;\n",
       "}\n",
       "\n",
       "#sk-container-id-1 input.sk-toggleable__control:checked~label.sk-toggleable__label-arrow:before {\n",
       "  content: \"▾\";\n",
       "}\n",
       "\n",
       "/* Pipeline/ColumnTransformer-specific style */\n",
       "\n",
       "#sk-container-id-1 div.sk-label input.sk-toggleable__control:checked~label.sk-toggleable__label {\n",
       "  color: var(--sklearn-color-text);\n",
       "  background-color: var(--sklearn-color-unfitted-level-2);\n",
       "}\n",
       "\n",
       "#sk-container-id-1 div.sk-label.fitted input.sk-toggleable__control:checked~label.sk-toggleable__label {\n",
       "  background-color: var(--sklearn-color-fitted-level-2);\n",
       "}\n",
       "\n",
       "/* Estimator-specific style */\n",
       "\n",
       "/* Colorize estimator box */\n",
       "#sk-container-id-1 div.sk-estimator input.sk-toggleable__control:checked~label.sk-toggleable__label {\n",
       "  /* unfitted */\n",
       "  background-color: var(--sklearn-color-unfitted-level-2);\n",
       "}\n",
       "\n",
       "#sk-container-id-1 div.sk-estimator.fitted input.sk-toggleable__control:checked~label.sk-toggleable__label {\n",
       "  /* fitted */\n",
       "  background-color: var(--sklearn-color-fitted-level-2);\n",
       "}\n",
       "\n",
       "#sk-container-id-1 div.sk-label label.sk-toggleable__label,\n",
       "#sk-container-id-1 div.sk-label label {\n",
       "  /* The background is the default theme color */\n",
       "  color: var(--sklearn-color-text-on-default-background);\n",
       "}\n",
       "\n",
       "/* On hover, darken the color of the background */\n",
       "#sk-container-id-1 div.sk-label:hover label.sk-toggleable__label {\n",
       "  color: var(--sklearn-color-text);\n",
       "  background-color: var(--sklearn-color-unfitted-level-2);\n",
       "}\n",
       "\n",
       "/* Label box, darken color on hover, fitted */\n",
       "#sk-container-id-1 div.sk-label.fitted:hover label.sk-toggleable__label.fitted {\n",
       "  color: var(--sklearn-color-text);\n",
       "  background-color: var(--sklearn-color-fitted-level-2);\n",
       "}\n",
       "\n",
       "/* Estimator label */\n",
       "\n",
       "#sk-container-id-1 div.sk-label label {\n",
       "  font-family: monospace;\n",
       "  font-weight: bold;\n",
       "  display: inline-block;\n",
       "  line-height: 1.2em;\n",
       "}\n",
       "\n",
       "#sk-container-id-1 div.sk-label-container {\n",
       "  text-align: center;\n",
       "}\n",
       "\n",
       "/* Estimator-specific */\n",
       "#sk-container-id-1 div.sk-estimator {\n",
       "  font-family: monospace;\n",
       "  border: 1px dotted var(--sklearn-color-border-box);\n",
       "  border-radius: 0.25em;\n",
       "  box-sizing: border-box;\n",
       "  margin-bottom: 0.5em;\n",
       "  /* unfitted */\n",
       "  background-color: var(--sklearn-color-unfitted-level-0);\n",
       "}\n",
       "\n",
       "#sk-container-id-1 div.sk-estimator.fitted {\n",
       "  /* fitted */\n",
       "  background-color: var(--sklearn-color-fitted-level-0);\n",
       "}\n",
       "\n",
       "/* on hover */\n",
       "#sk-container-id-1 div.sk-estimator:hover {\n",
       "  /* unfitted */\n",
       "  background-color: var(--sklearn-color-unfitted-level-2);\n",
       "}\n",
       "\n",
       "#sk-container-id-1 div.sk-estimator.fitted:hover {\n",
       "  /* fitted */\n",
       "  background-color: var(--sklearn-color-fitted-level-2);\n",
       "}\n",
       "\n",
       "/* Specification for estimator info (e.g. \"i\" and \"?\") */\n",
       "\n",
       "/* Common style for \"i\" and \"?\" */\n",
       "\n",
       ".sk-estimator-doc-link,\n",
       "a:link.sk-estimator-doc-link,\n",
       "a:visited.sk-estimator-doc-link {\n",
       "  float: right;\n",
       "  font-size: smaller;\n",
       "  line-height: 1em;\n",
       "  font-family: monospace;\n",
       "  background-color: var(--sklearn-color-background);\n",
       "  border-radius: 1em;\n",
       "  height: 1em;\n",
       "  width: 1em;\n",
       "  text-decoration: none !important;\n",
       "  margin-left: 1ex;\n",
       "  /* unfitted */\n",
       "  border: var(--sklearn-color-unfitted-level-1) 1pt solid;\n",
       "  color: var(--sklearn-color-unfitted-level-1);\n",
       "}\n",
       "\n",
       ".sk-estimator-doc-link.fitted,\n",
       "a:link.sk-estimator-doc-link.fitted,\n",
       "a:visited.sk-estimator-doc-link.fitted {\n",
       "  /* fitted */\n",
       "  border: var(--sklearn-color-fitted-level-1) 1pt solid;\n",
       "  color: var(--sklearn-color-fitted-level-1);\n",
       "}\n",
       "\n",
       "/* On hover */\n",
       "div.sk-estimator:hover .sk-estimator-doc-link:hover,\n",
       ".sk-estimator-doc-link:hover,\n",
       "div.sk-label-container:hover .sk-estimator-doc-link:hover,\n",
       ".sk-estimator-doc-link:hover {\n",
       "  /* unfitted */\n",
       "  background-color: var(--sklearn-color-unfitted-level-3);\n",
       "  color: var(--sklearn-color-background);\n",
       "  text-decoration: none;\n",
       "}\n",
       "\n",
       "div.sk-estimator.fitted:hover .sk-estimator-doc-link.fitted:hover,\n",
       ".sk-estimator-doc-link.fitted:hover,\n",
       "div.sk-label-container:hover .sk-estimator-doc-link.fitted:hover,\n",
       ".sk-estimator-doc-link.fitted:hover {\n",
       "  /* fitted */\n",
       "  background-color: var(--sklearn-color-fitted-level-3);\n",
       "  color: var(--sklearn-color-background);\n",
       "  text-decoration: none;\n",
       "}\n",
       "\n",
       "/* Span, style for the box shown on hovering the info icon */\n",
       ".sk-estimator-doc-link span {\n",
       "  display: none;\n",
       "  z-index: 9999;\n",
       "  position: relative;\n",
       "  font-weight: normal;\n",
       "  right: .2ex;\n",
       "  padding: .5ex;\n",
       "  margin: .5ex;\n",
       "  width: min-content;\n",
       "  min-width: 20ex;\n",
       "  max-width: 50ex;\n",
       "  color: var(--sklearn-color-text);\n",
       "  box-shadow: 2pt 2pt 4pt #999;\n",
       "  /* unfitted */\n",
       "  background: var(--sklearn-color-unfitted-level-0);\n",
       "  border: .5pt solid var(--sklearn-color-unfitted-level-3);\n",
       "}\n",
       "\n",
       ".sk-estimator-doc-link.fitted span {\n",
       "  /* fitted */\n",
       "  background: var(--sklearn-color-fitted-level-0);\n",
       "  border: var(--sklearn-color-fitted-level-3);\n",
       "}\n",
       "\n",
       ".sk-estimator-doc-link:hover span {\n",
       "  display: block;\n",
       "}\n",
       "\n",
       "/* \"?\"-specific style due to the `<a>` HTML tag */\n",
       "\n",
       "#sk-container-id-1 a.estimator_doc_link {\n",
       "  float: right;\n",
       "  font-size: 1rem;\n",
       "  line-height: 1em;\n",
       "  font-family: monospace;\n",
       "  background-color: var(--sklearn-color-background);\n",
       "  border-radius: 1rem;\n",
       "  height: 1rem;\n",
       "  width: 1rem;\n",
       "  text-decoration: none;\n",
       "  /* unfitted */\n",
       "  color: var(--sklearn-color-unfitted-level-1);\n",
       "  border: var(--sklearn-color-unfitted-level-1) 1pt solid;\n",
       "}\n",
       "\n",
       "#sk-container-id-1 a.estimator_doc_link.fitted {\n",
       "  /* fitted */\n",
       "  border: var(--sklearn-color-fitted-level-1) 1pt solid;\n",
       "  color: var(--sklearn-color-fitted-level-1);\n",
       "}\n",
       "\n",
       "/* On hover */\n",
       "#sk-container-id-1 a.estimator_doc_link:hover {\n",
       "  /* unfitted */\n",
       "  background-color: var(--sklearn-color-unfitted-level-3);\n",
       "  color: var(--sklearn-color-background);\n",
       "  text-decoration: none;\n",
       "}\n",
       "\n",
       "#sk-container-id-1 a.estimator_doc_link.fitted:hover {\n",
       "  /* fitted */\n",
       "  background-color: var(--sklearn-color-fitted-level-3);\n",
       "}\n",
       "</style><div id=\"sk-container-id-1\" class=\"sk-top-container\"><div class=\"sk-text-repr-fallback\"><pre>LinearRegression()</pre><b>In a Jupyter environment, please rerun this cell to show the HTML representation or trust the notebook. <br />On GitHub, the HTML representation is unable to render, please try loading this page with nbviewer.org.</b></div><div class=\"sk-container\" hidden><div class=\"sk-item\"><div class=\"sk-estimator fitted sk-toggleable\"><input class=\"sk-toggleable__control sk-hidden--visually\" id=\"sk-estimator-id-1\" type=\"checkbox\" checked><label for=\"sk-estimator-id-1\" class=\"sk-toggleable__label fitted sk-toggleable__label-arrow fitted\">&nbsp;&nbsp;LinearRegression<a class=\"sk-estimator-doc-link fitted\" rel=\"noreferrer\" target=\"_blank\" href=\"https://scikit-learn.org/1.5/modules/generated/sklearn.linear_model.LinearRegression.html\">?<span>Documentation for LinearRegression</span></a><span class=\"sk-estimator-doc-link fitted\">i<span>Fitted</span></span></label><div class=\"sk-toggleable__content fitted\"><pre>LinearRegression()</pre></div> </div></div></div></div>"
      ],
      "text/plain": [
       "LinearRegression()"
      ]
     },
     "execution_count": 9,
     "metadata": {},
     "output_type": "execute_result"
    }
   ],
   "source": [
    "model = LinearRegression()\n",
    "model.fit(X_train, y_train)"
   ]
  },
  {
   "cell_type": "markdown",
   "id": "8738bdc2-90c9-439c-ae4f-3b6ce932a4e2",
   "metadata": {},
   "source": [
    "Model regresi linear dibuat menggunakan LinearRegression(), lalu dilatih menggunakan data latih X_train dan y_train. model.fit(X_train, y_train) mengoptimalkan model agar dapat mengestimasi hubungan antara fitur dan target, yang memungkinkan model memprediksi nilai Harvest Area berdasarkan Production."
   ]
  },
  {
   "cell_type": "code",
   "execution_count": 10,
   "id": "0dfb60c4-a590-4647-af21-7b87cc8c5e13",
   "metadata": {},
   "outputs": [],
   "source": [
    "y_pred = model.predict(X_test)"
   ]
  },
  {
   "cell_type": "markdown",
   "id": "6594a37f-b796-4bab-a869-623948a643c7",
   "metadata": {},
   "source": [
    "Setelah model dilatih, prediksi dibuat pada data uji X_test menggunakan model.predict(X_test). Hasil prediksi disimpan di y_pred, yang kemudian akan digunakan dalam evaluasi model untuk mengetahui seberapa baik model mampu memprediksi data yang tidak dikenal."
   ]
  },
  {
   "cell_type": "code",
   "execution_count": 11,
   "id": "18c84934-d95b-477d-ab14-5c4b238b889d",
   "metadata": {},
   "outputs": [
    {
     "name": "stdout",
     "output_type": "stream",
     "text": [
      "Mean Squared Error (MSE): 0.037020317686727366\n",
      "Mean Absolute Error (MAE): 0.1610726394353577\n",
      "R-squared (R2): 0.9567991072237485\n"
     ]
    }
   ],
   "source": [
    "mse = mean_squared_error(y_test, y_pred)\n",
    "mae = mean_absolute_error(y_test, y_pred)\n",
    "r2 = r2_score(y_test, y_pred)\n",
    "\n",
    "print(f\"Mean Squared Error (MSE): {mse}\")\n",
    "print(f\"Mean Absolute Error (MAE): {mae}\")\n",
    "print(f\"R-squared (R2): {r2}\")"
   ]
  },
  {
   "cell_type": "markdown",
   "id": "e3b9f996-7b20-43d2-a893-da6536d69dd3",
   "metadata": {},
   "source": [
    "Blok ini mengevaluasi performa model menggunakan tiga metrik: Mean Squared Error (MSE), Mean Absolute Error (MAE), dan R-squared (R2). mse dan mae mengukur rata-rata perbedaan antara nilai prediksi dan nilai sebenarnya, sedangkan r2 menunjukkan proporsi variabilitas target yang berhasil dijelaskan oleh model. Hasil ketiga metrik ini dicetak untuk memberikan gambaran seberapa baik model bekerja."
   ]
  },
  {
   "cell_type": "code",
   "execution_count": 12,
   "id": "54edb519-29ff-4e26-8a71-1c776cbbc347",
   "metadata": {},
   "outputs": [
    {
     "data": {
      "image/png": "[encoded data removed]",
      "text/plain": [
       "<Figure size 800x500 with 1 Axes>"
      ]
     },
     "metadata": {},
     "output_type": "display_data"
    }
   ],
   "source": [
    "plt.figure(figsize=(8, 5))\n",
    "sns.histplot(y_test, color=\"blue\", label=\"Actual\", kde=True)\n",
    "sns.histplot(y_pred, color=\"red\", label=\"Predicted\", kde=True)\n",
    "plt.legend()\n",
    "plt.title(\"Histogram of Actual vs Predicted Values\")\n",
    "plt.show()"
   ]
  },
  {
   "cell_type": "markdown",
   "id": "f22d8df2-9c56-4667-89a7-4316addd3bb3",
   "metadata": {},
   "source": [
    "Histogram dari nilai aktual dan prediksi dibuat menggunakan sns.histplot() untuk mengevaluasi distribusi hasil prediksi. Warna biru mewakili nilai aktual, sedangkan warna merah menunjukkan prediksi. Grafik ini memberikan gambaran visual tentang perbandingan distribusi antara nilai yang diprediksi dan nilai aktual pada data uji, yang membantu dalam memeriksa akurasi model secara visual."
   ]
  },
  {
   "cell_type": "code",
   "execution_count": 13,
   "id": "766b231f-ea06-46ef-9cd1-7068d0c24aee",
   "metadata": {},
   "outputs": [
    {
     "data": {
      "image/png": "[encoded data removed]",
      "text/plain": [
       "<Figure size 800x500 with 1 Axes>"
      ]
     },
     "metadata": {},
     "output_type": "display_data"
    }
   ],
   "source": [
    "plt.figure(figsize=(8, 5))\n",
    "plt.scatter(y_test, y_pred, color='purple')\n",
    "plt.plot([y_test.min(), y_test.max()], [y_test.min(), y_test.max()], 'k--', lw=2)\n",
    "plt.xlabel(\"Actual\")\n",
    "plt.ylabel(\"Predicted\")\n",
    "plt.title(\"Actual vs Predicted Values\")\n",
    "plt.show()"
   ]
  },
  {
   "cell_type": "markdown",
   "id": "34714bf9-4eec-493e-83ae-298afea9a5a6",
   "metadata": {},
   "source": [
    "Scatter plot ini menampilkan hubungan antara nilai aktual y_test dan prediksi y_pred. Garis y=x (warna hitam) ditambahkan sebagai acuan ideal di mana nilai prediksi sama dengan nilai aktual. Plot ini mempermudah dalam melihat penyebaran prediksi terhadap data sebenarnya, dan seberapa dekat model berhasil memprediksi data uji."
   ]
  },
  {
   "cell_type": "code",
   "execution_count": 14,
   "id": "9360ca7f-f256-4579-8610-c5947750ab14",
   "metadata": {},
   "outputs": [
    {
     "data": {
      "image/png": "[encoded data removed]",
      "text/plain": [
       "<Figure size 1200x500 with 1 Axes>"
      ]
     },
     "metadata": {},
     "output_type": "display_data"
    }
   ],
   "source": [
    "plt.figure(figsize=(12, 5))\n",
    "sns.boxplot(data=scaled_df)\n",
    "plt.title(\"Boxplot for Scaled Data\")\n",
    "plt.show()"
   ]
  },
  {
   "cell_type": "markdown",
   "id": "2b9962c2-be07-4100-9e3e-c6500e6aa4e2",
   "metadata": {},
   "source": [
    "Blok terakhir menghasilkan boxplot dari data yang telah distandarisasi (scaled_df). Visualisasi ini membantu dalam mengecek apakah proses standarisasi telah berhasil meratakan persebaran data serta untuk melihat adanya outlier pada data yang sudah distandarisasi. Judul \"Boxplot for Scaled Data\" ditambahkan untuk memperjelas konteks visualisasi ini."
   ]
  },
  {
   "cell_type": "code",
   "execution_count": 22,
   "id": "fbe99571-a428-48c6-92e1-afd101cbc1b2",
   "metadata": {},
   "outputs": [
    {
     "name": "stdout",
     "output_type": "stream",
     "text": [
      "Prediksi Luas Area Panen:\n",
      "[1191839.49913898 3666995.8608396 ]\n"
     ]
    }
   ],
   "source": [
    "new_data = pd.DataFrame({'Production (X)': [1329536.00, 4090654.00]})\n",
    "\n",
    "scaler = StandardScaler()\n",
    "scaler.fit(X_train)\n",
    "\n",
    "new_data_scaled = scaler.transform(new_data)\n",
    "\n",
    "predicted_harvest_area = model.predict(new_data)\n",
    "\n",
    "print(\"Prediksi Luas Area Panen:\")\n",
    "print(predicted_harvest_area)"
   ]
  },
  {
   "cell_type": "markdown",
   "id": "1c90a94f-a1ee-4113-bcd9-382d1fdff729",
   "metadata": {},
   "source": [
    "Hasil uji regresi menunjukan hasil yang hampir sesuai dengan modul yang diberikan"
   ]
  },
  {
   "cell_type": "code",
   "execution_count": null,
   "id": "1007846e-5e4c-4901-95d2-3af7c4689292",
   "metadata": {},
   "outputs": [],
   "source": []
  }
 ],
 "metadata": {
  "kernelspec": {
   "display_name": "Python 3 (ipykernel)",
   "language": "python",
   "name": "python3"
  },
  "language_info": {
   "codemirror_mode": {
    "name": "ipython",
    "version": 3
   },
   "file_extension": ".py",
   "mimetype": "text/x-python",
   "name": "python",
   "nbconvert_exporter": "python",
   "pygments_lexer": "ipython3",
   "version": "3.12.4"
  }
 },
 "nbformat": 4,
 "nbformat_minor": 5
}
